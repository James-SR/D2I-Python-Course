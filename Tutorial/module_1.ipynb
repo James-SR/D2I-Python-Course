{
 "cells": [
  {
   "cell_type": "code",
   "execution_count": 2,
   "metadata": {},
   "outputs": [
    {
     "name": "stdout",
     "output_type": "stream",
     "text": [
      "7\n"
     ]
    }
   ],
   "source": [
    "x = 4\n",
    "y = 3\n",
    "z = x + y\n",
    "print(z)\n",
    "\n",
    "# learning resource on FreeCodeCamp\n",
    "# https://www.youtube.com/watch?v=LHBE6Q9XlzI"
   ]
  },
  {
   "cell_type": "code",
   "execution_count": 8,
   "metadata": {},
   "outputs": [
    {
     "name": "stdout",
     "output_type": "stream",
     "text": [
      "5\n",
      "5\n",
      "num_1 is <class 'int'>\n",
      "num_3 is <class 'str'>\n"
     ]
    }
   ],
   "source": [
    "# You don't need to define a variable type in Python, Python will do it \n",
    "# automatically - numbers are stored as 64 bit float or int\n",
    "num_1 = 5\n",
    "num_2 = 5.0\n",
    "\n",
    "# as these are the same types, you can do similar things with them\n",
    "# but this doesn't always apply if the type is different, like text \n",
    "\n",
    "num_3 = \"5\" # number as string\n",
    "print(num_1)\n",
    "print(num_3)\n",
    "\n",
    "print(\"num_1 is\",type(num_1))\n",
    "print(\"num_3 is\",type(num_3))"
   ]
  },
  {
   "cell_type": "code",
   "execution_count": 11,
   "metadata": {},
   "outputs": [
    {
     "name": "stdout",
     "output_type": "stream",
     "text": [
      "6\n",
      "12.56\n"
     ]
    }
   ],
   "source": [
    "\n",
    "# In this cell, initialise two numeric variables and find their product\n",
    "# using the * operator for multiplication and assign this to a new variable.\n",
    "# Print the new variable\n",
    "\n",
    "N1 = 2\n",
    "N2 = 3\n",
    "N3 = N1 * N2\n",
    "print(N3)\n",
    " \n",
    "# The radius of a circle is 2, assume that Pi is 3.14. Assign both of these\n",
    "# to suitably named variables and find the area of the circle.\n",
    "# We can find the area of a circle by finding the product of Pi with the radius squared.\n",
    "# You probably don't know how to square a number in Python yet, so use Google to work it out!\n",
    "\n",
    "r = 2\n",
    "Pi = 3.14\n",
    "Area = Pi * r**2\n",
    "print(Area)"
   ]
  }
 ],
 "metadata": {
  "kernelspec": {
   "display_name": "Python 3",
   "language": "python",
   "name": "python3"
  },
  "language_info": {
   "codemirror_mode": {
    "name": "ipython",
    "version": 3
   },
   "file_extension": ".py",
   "mimetype": "text/x-python",
   "name": "python",
   "nbconvert_exporter": "python",
   "pygments_lexer": "ipython3",
   "version": "3.10.13"
  }
 },
 "nbformat": 4,
 "nbformat_minor": 2
}
