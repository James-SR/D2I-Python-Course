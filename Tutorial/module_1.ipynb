{
 "cells": [
  {
   "cell_type": "code",
   "execution_count": 2,
   "metadata": {},
   "outputs": [
    {
     "name": "stdout",
     "output_type": "stream",
     "text": [
      "7\n"
     ]
    }
   ],
   "source": [
    "x = 4\n",
    "y = 3\n",
    "z = x + y\n",
    "print(z)\n",
    "\n",
    "# learning resource on FreeCodeCamp - Python bootcamp\n",
    "# https://www.youtube.com/watch?v=LHBE6Q9XlzI\n",
    "# or coding https://leetcode.com/"
   ]
  },
  {
   "cell_type": "code",
   "execution_count": 8,
   "metadata": {},
   "outputs": [
    {
     "name": "stdout",
     "output_type": "stream",
     "text": [
      "5\n",
      "5\n",
      "num_1 is <class 'int'>\n",
      "num_3 is <class 'str'>\n"
     ]
    }
   ],
   "source": [
    "# You don't need to define a variable type in Python, Python will do it \n",
    "# automatically - numbers are stored as 64 bit float or int\n",
    "num_1 = 5\n",
    "num_2 = 5.0\n",
    "\n",
    "# as these are the same types, you can do similar things with them\n",
    "# but this doesn't always apply if the type is different, like text \n",
    "\n",
    "num_3 = \"5\" # number as string\n",
    "print(num_1)\n",
    "print(num_3)\n",
    "\n",
    "print(\"num_1 is\",type(num_1))\n",
    "print(\"num_3 is\",type(num_3))"
   ]
  },
  {
   "cell_type": "code",
   "execution_count": 11,
   "metadata": {},
   "outputs": [
    {
     "name": "stdout",
     "output_type": "stream",
     "text": [
      "6\n",
      "12.56\n"
     ]
    }
   ],
   "source": [
    "\n",
    "# In this cell, initialise two numeric variables and find their product\n",
    "# using the * operator for multiplication and assign this to a new variable.\n",
    "# Print the new variable\n",
    "\n",
    "N1 = 2\n",
    "N2 = 3\n",
    "N3 = N1 * N2\n",
    "print(N3)\n",
    " \n",
    "# The radius of a circle is 2, assume that Pi is 3.14. Assign both of these\n",
    "# to suitably named variables and find the area of the circle.\n",
    "# We can find the area of a circle by finding the product of Pi with the radius squared.\n",
    "# You probably don't know how to square a number in Python yet, so use Google to work it out!\n",
    "\n",
    "r = 2\n",
    "Pi = 3.14\n",
    "Area = Pi * (r**2) # dont need the brackets in this case, but safety first\n",
    "print(Area)"
   ]
  },
  {
   "cell_type": "code",
   "execution_count": 16,
   "metadata": {},
   "outputs": [
    {
     "name": "stdout",
     "output_type": "stream",
     "text": [
      "James likes photography\n",
      "CIN Plans per year (rate per 10k)\n"
     ]
    }
   ],
   "source": [
    "# Concatenting can be useful for things like dynaimc chart or report titles\n",
    "name = \"James\"\n",
    "hobby = \"photography\"\n",
    "phrase = name + \" likes \" + hobby\n",
    "print(phrase)\n",
    "\n",
    "# You could use these in drop down menus too\n",
    "value_x = \"CIN Plans\"\n",
    "title = value_x + \" per year (rate per 10k)\"\n",
    "print(title)"
   ]
  },
  {
   "cell_type": "code",
   "execution_count": 20,
   "metadata": {},
   "outputs": [
    {
     "name": "stdout",
     "output_type": "stream",
     "text": [
      "My name is James and I likes photography\n"
     ]
    }
   ],
   "source": [
    "# We can make f or formatted strings - we can directly put the variable instead the string rather than concat\n",
    "# This can be useful in report creation \n",
    "\n",
    "phrase_2 = f\"My name is {name} and I likes {hobby}\"\n",
    "print(phrase_2)"
   ]
  },
  {
   "cell_type": "code",
   "execution_count": 23,
   "metadata": {},
   "outputs": [
    {
     "name": "stdout",
     "output_type": "stream",
     "text": [
      "My name is James and my job is Senior Analyst\n",
      "5 and Senior Analyst\n"
     ]
    }
   ],
   "source": [
    "''' In this cell, initialise two appropriately named variables, one for your name and one for your job title.\n",
    "Next, combine them in an f string, assigned to a different, appropriately named variable.\n",
    "Finally, print the f string.\n",
    " \n",
    "Make a variable for a string and one for a number,\n",
    "Try and add them (not inside an f string) and see what happens '''\n",
    "\n",
    "job = \"Senior Analyst\"\n",
    "phrase_3 = f\"My name is {name} and my job is {job}\"\n",
    "print(phrase_3)\n",
    "\n",
    "# combine = num_1 + job will not work due to type incompatability\n",
    "\n",
    "phrase_4 = f\"{num_1} and {job}\"\n",
    "print(phrase_4)"
   ]
  },
  {
   "cell_type": "code",
   "execution_count": 33,
   "metadata": {},
   "outputs": [
    {
     "name": "stdout",
     "output_type": "stream",
     "text": [
      "4\n",
      "234567\n",
      "123\n",
      "7\n",
      "987654321\n"
     ]
    }
   ],
   "source": [
    "# An index in python starts at 0, we can slice our data similar to in R\n",
    "num_string =\"123456789\"\n",
    "\n",
    "sub_string = num_string[3]\n",
    "print(sub_string)\n",
    "sub_string = num_string[1:7]\n",
    "print(sub_string)\n",
    "\n",
    "#start is INCLUSIVE\n",
    "#stop is EXCLUSIVE\n",
    "sub_string = num_string[0:3] #third element is actually four, as shown above as it is excluded \n",
    "print(sub_string)\n",
    "sub_string = num_string[-3] # returns third from the end\n",
    "print(sub_string)\n",
    "sub_string = num_string[-1::-1] # reverse a string\n",
    "print(sub_string)\n"
   ]
  },
  {
   "cell_type": "code",
   "execution_count": 37,
   "metadata": {},
   "outputs": [
    {
     "name": "stdout",
     "output_type": "stream",
     "text": [
      "CLAs\n"
     ]
    }
   ],
   "source": [
    "filename = \"CLAs.csv\"\n",
    "filename = filename[:-4]\n",
    "print(filename)"
   ]
  }
 ],
 "metadata": {
  "kernelspec": {
   "display_name": "Python 3",
   "language": "python",
   "name": "python3"
  },
  "language_info": {
   "codemirror_mode": {
    "name": "ipython",
    "version": 3
   },
   "file_extension": ".py",
   "mimetype": "text/x-python",
   "name": "python",
   "nbconvert_exporter": "python",
   "pygments_lexer": "ipython3",
   "version": "3.10.13"
  }
 },
 "nbformat": 4,
 "nbformat_minor": 2
}
